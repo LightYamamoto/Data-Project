{
 "cells": [
  {
   "cell_type": "markdown",
   "metadata": {},
   "source": [
    "# Assignment 2\n",
    "### Dựa trên số liệu về số ca ghi nhận và số ca tử vong covid hiện nay, liệu số ca nhiễm có mối liên hệ nào với với số ca tử vong hay không. Liệu số ca nhiễm của một quốc gia càng cao thì tỉ lệ tử vong có tỉ lệ thuận với số ca nhiễm không?"
   ]
  },
  {
   "cell_type": "code",
   "execution_count": 1,
   "metadata": {},
   "outputs": [],
   "source": [
    "\n",
    "import pandas as pd\n",
    "import numpy as np\n",
    "import matplotlib.pyplot as plt\n",
    "import seaborn as  sns"
   ]
  },
  {
   "cell_type": "markdown",
   "metadata": {},
   "source": [
    "### Step 1: Import Dataset\n"
   ]
  },
  {
   "cell_type": "code",
   "execution_count": 2,
   "metadata": {},
   "outputs": [
    {
     "data": {
      "text/html": [
       "<div>\n",
       "<style scoped>\n",
       "    .dataframe tbody tr th:only-of-type {\n",
       "        vertical-align: middle;\n",
       "    }\n",
       "\n",
       "    .dataframe tbody tr th {\n",
       "        vertical-align: top;\n",
       "    }\n",
       "\n",
       "    .dataframe thead th {\n",
       "        text-align: right;\n",
       "    }\n",
       "</style>\n",
       "<table border=\"1\" class=\"dataframe\">\n",
       "  <thead>\n",
       "    <tr style=\"text-align: right;\">\n",
       "      <th></th>\n",
       "      <th>Name</th>\n",
       "      <th>WHO Region</th>\n",
       "      <th>Cases - cumulative total</th>\n",
       "      <th>Cases - cumulative total per 100000 population</th>\n",
       "      <th>Cases - newly reported in last 7 days</th>\n",
       "      <th>Cases - newly reported in last 7 days per 100000 population</th>\n",
       "      <th>Cases - newly reported in last 24 hours</th>\n",
       "      <th>Deaths - cumulative total</th>\n",
       "      <th>Deaths - cumulative total per 100000 population</th>\n",
       "      <th>Deaths - newly reported in last 7 days</th>\n",
       "      <th>Deaths - newly reported in last 7 days per 100000 population</th>\n",
       "      <th>Deaths - newly reported in last 24 hours</th>\n",
       "    </tr>\n",
       "  </thead>\n",
       "  <tbody>\n",
       "    <tr>\n",
       "      <th>0</th>\n",
       "      <td>United States of America</td>\n",
       "      <td>Americas</td>\n",
       "      <td>37405329</td>\n",
       "      <td>11300.61</td>\n",
       "      <td>838639</td>\n",
       "      <td>253.36</td>\n",
       "      <td>0</td>\n",
       "      <td>622459</td>\n",
       "      <td>188.05</td>\n",
       "      <td>5658</td>\n",
       "      <td>1.71</td>\n",
       "      <td>0</td>\n",
       "    </tr>\n",
       "    <tr>\n",
       "      <th>1</th>\n",
       "      <td>India</td>\n",
       "      <td>South-East Asia</td>\n",
       "      <td>32449306</td>\n",
       "      <td>2351.39</td>\n",
       "      <td>223793</td>\n",
       "      <td>16.22</td>\n",
       "      <td>25072</td>\n",
       "      <td>434756</td>\n",
       "      <td>31.50</td>\n",
       "      <td>3114</td>\n",
       "      <td>0.23</td>\n",
       "      <td>389</td>\n",
       "    </tr>\n",
       "    <tr>\n",
       "      <th>2</th>\n",
       "      <td>Brazil</td>\n",
       "      <td>Americas</td>\n",
       "      <td>20556487</td>\n",
       "      <td>9670.94</td>\n",
       "      <td>206345</td>\n",
       "      <td>97.08</td>\n",
       "      <td>28388</td>\n",
       "      <td>574209</td>\n",
       "      <td>270.14</td>\n",
       "      <td>5421</td>\n",
       "      <td>2.55</td>\n",
       "      <td>698</td>\n",
       "    </tr>\n",
       "    <tr>\n",
       "      <th>3</th>\n",
       "      <td>Russian Federation</td>\n",
       "      <td>Europe</td>\n",
       "      <td>6766541</td>\n",
       "      <td>4636.70</td>\n",
       "      <td>144940</td>\n",
       "      <td>99.32</td>\n",
       "      <td>19454</td>\n",
       "      <td>176820</td>\n",
       "      <td>121.16</td>\n",
       "      <td>5515</td>\n",
       "      <td>3.78</td>\n",
       "      <td>776</td>\n",
       "    </tr>\n",
       "    <tr>\n",
       "      <th>4</th>\n",
       "      <td>The United Kingdom</td>\n",
       "      <td>Europe</td>\n",
       "      <td>6492910</td>\n",
       "      <td>9564.43</td>\n",
       "      <td>225469</td>\n",
       "      <td>332.13</td>\n",
       "      <td>31976</td>\n",
       "      <td>131640</td>\n",
       "      <td>193.91</td>\n",
       "      <td>687</td>\n",
       "      <td>1.01</td>\n",
       "      <td>49</td>\n",
       "    </tr>\n",
       "  </tbody>\n",
       "</table>\n",
       "</div>"
      ],
      "text/plain": [
       "                       Name       WHO Region  Cases - cumulative total  \\\n",
       "0  United States of America         Americas                  37405329   \n",
       "1                     India  South-East Asia                  32449306   \n",
       "2                    Brazil         Americas                  20556487   \n",
       "3        Russian Federation           Europe                   6766541   \n",
       "4        The United Kingdom           Europe                   6492910   \n",
       "\n",
       "   Cases - cumulative total per 100000 population  \\\n",
       "0                                        11300.61   \n",
       "1                                         2351.39   \n",
       "2                                         9670.94   \n",
       "3                                         4636.70   \n",
       "4                                         9564.43   \n",
       "\n",
       "   Cases - newly reported in last 7 days  \\\n",
       "0                                 838639   \n",
       "1                                 223793   \n",
       "2                                 206345   \n",
       "3                                 144940   \n",
       "4                                 225469   \n",
       "\n",
       "   Cases - newly reported in last 7 days per 100000 population  \\\n",
       "0                                             253.36             \n",
       "1                                              16.22             \n",
       "2                                              97.08             \n",
       "3                                              99.32             \n",
       "4                                             332.13             \n",
       "\n",
       "   Cases - newly reported in last 24 hours  Deaths - cumulative total  \\\n",
       "0                                        0                     622459   \n",
       "1                                    25072                     434756   \n",
       "2                                    28388                     574209   \n",
       "3                                    19454                     176820   \n",
       "4                                    31976                     131640   \n",
       "\n",
       "   Deaths - cumulative total per 100000 population  \\\n",
       "0                                           188.05   \n",
       "1                                            31.50   \n",
       "2                                           270.14   \n",
       "3                                           121.16   \n",
       "4                                           193.91   \n",
       "\n",
       "   Deaths - newly reported in last 7 days  \\\n",
       "0                                    5658   \n",
       "1                                    3114   \n",
       "2                                    5421   \n",
       "3                                    5515   \n",
       "4                                     687   \n",
       "\n",
       "   Deaths - newly reported in last 7 days per 100000 population  \\\n",
       "0                                               1.71              \n",
       "1                                               0.23              \n",
       "2                                               2.55              \n",
       "3                                               3.78              \n",
       "4                                               1.01              \n",
       "\n",
       "   Deaths - newly reported in last 24 hours  \n",
       "0                                         0  \n",
       "1                                       389  \n",
       "2                                       698  \n",
       "3                                       776  \n",
       "4                                        49  "
      ]
     },
     "execution_count": 2,
     "metadata": {},
     "output_type": "execute_result"
    }
   ],
   "source": [
    "data=pd.read_csv('COVID.csv')\n",
    "data.head()"
   ]
  },
  {
   "cell_type": "markdown",
   "metadata": {},
   "source": [
    "### Step 2: Split Needed Data From Dataset &Data  Overview"
   ]
  },
  {
   "cell_type": "code",
   "execution_count": 3,
   "metadata": {},
   "outputs": [
    {
     "name": "stdout",
     "output_type": "stream",
     "text": [
      "<class 'pandas.core.frame.DataFrame'>\n",
      "RangeIndex: 237 entries, 0 to 236\n",
      "Data columns (total 12 columns):\n",
      " #   Column                                                        Non-Null Count  Dtype  \n",
      "---  ------                                                        --------------  -----  \n",
      " 0   Name                                                          237 non-null    object \n",
      " 1   WHO Region                                                    237 non-null    object \n",
      " 2   Cases - cumulative total                                      237 non-null    int64  \n",
      " 3   Cases - cumulative total per 100000 population                236 non-null    float64\n",
      " 4   Cases - newly reported in last 7 days                         237 non-null    int64  \n",
      " 5   Cases - newly reported in last 7 days per 100000 population   236 non-null    float64\n",
      " 6   Cases - newly reported in last 24 hours                       237 non-null    int64  \n",
      " 7   Deaths - cumulative total                                     237 non-null    int64  \n",
      " 8   Deaths - cumulative total per 100000 population               236 non-null    float64\n",
      " 9   Deaths - newly reported in last 7 days                        237 non-null    int64  \n",
      " 10  Deaths - newly reported in last 7 days per 100000 population  236 non-null    float64\n",
      " 11  Deaths - newly reported in last 24 hours                      237 non-null    int64  \n",
      "dtypes: float64(4), int64(6), object(2)\n",
      "memory usage: 22.3+ KB\n"
     ]
    }
   ],
   "source": [
    "data.info()\n"
   ]
  },
  {
   "cell_type": "code",
   "execution_count": 4,
   "metadata": {
    "scrolled": true
   },
   "outputs": [
    {
     "data": {
      "text/html": [
       "<div>\n",
       "<style scoped>\n",
       "    .dataframe tbody tr th:only-of-type {\n",
       "        vertical-align: middle;\n",
       "    }\n",
       "\n",
       "    .dataframe tbody tr th {\n",
       "        vertical-align: top;\n",
       "    }\n",
       "\n",
       "    .dataframe thead th {\n",
       "        text-align: right;\n",
       "    }\n",
       "</style>\n",
       "<table border=\"1\" class=\"dataframe\">\n",
       "  <thead>\n",
       "    <tr style=\"text-align: right;\">\n",
       "      <th></th>\n",
       "      <th>Name</th>\n",
       "      <th>WHO Region</th>\n",
       "      <th>Cases - cumulative total</th>\n",
       "      <th>Deaths - cumulative total</th>\n",
       "    </tr>\n",
       "  </thead>\n",
       "  <tbody>\n",
       "    <tr>\n",
       "      <th>0</th>\n",
       "      <td>United States of America</td>\n",
       "      <td>Americas</td>\n",
       "      <td>37405329</td>\n",
       "      <td>622459</td>\n",
       "    </tr>\n",
       "    <tr>\n",
       "      <th>1</th>\n",
       "      <td>India</td>\n",
       "      <td>South-East Asia</td>\n",
       "      <td>32449306</td>\n",
       "      <td>434756</td>\n",
       "    </tr>\n",
       "    <tr>\n",
       "      <th>2</th>\n",
       "      <td>Brazil</td>\n",
       "      <td>Americas</td>\n",
       "      <td>20556487</td>\n",
       "      <td>574209</td>\n",
       "    </tr>\n",
       "    <tr>\n",
       "      <th>3</th>\n",
       "      <td>Russian Federation</td>\n",
       "      <td>Europe</td>\n",
       "      <td>6766541</td>\n",
       "      <td>176820</td>\n",
       "    </tr>\n",
       "    <tr>\n",
       "      <th>4</th>\n",
       "      <td>The United Kingdom</td>\n",
       "      <td>Europe</td>\n",
       "      <td>6492910</td>\n",
       "      <td>131640</td>\n",
       "    </tr>\n",
       "  </tbody>\n",
       "</table>\n",
       "</div>"
      ],
      "text/plain": [
       "                       Name       WHO Region  Cases - cumulative total  \\\n",
       "0  United States of America         Americas                  37405329   \n",
       "1                     India  South-East Asia                  32449306   \n",
       "2                    Brazil         Americas                  20556487   \n",
       "3        Russian Federation           Europe                   6766541   \n",
       "4        The United Kingdom           Europe                   6492910   \n",
       "\n",
       "   Deaths - cumulative total  \n",
       "0                     622459  \n",
       "1                     434756  \n",
       "2                     574209  \n",
       "3                     176820  \n",
       "4                     131640  "
      ]
     },
     "execution_count": 4,
     "metadata": {},
     "output_type": "execute_result"
    }
   ],
   "source": [
    "\n",
    "df=data.iloc[:,[0,1,2,7]]\n",
    "df.head(5)"
   ]
  },
  {
   "cell_type": "code",
   "execution_count": 5,
   "metadata": {},
   "outputs": [
    {
     "data": {
      "text/html": [
       "<div>\n",
       "<style scoped>\n",
       "    .dataframe tbody tr th:only-of-type {\n",
       "        vertical-align: middle;\n",
       "    }\n",
       "\n",
       "    .dataframe tbody tr th {\n",
       "        vertical-align: top;\n",
       "    }\n",
       "\n",
       "    .dataframe thead th {\n",
       "        text-align: right;\n",
       "    }\n",
       "</style>\n",
       "<table border=\"1\" class=\"dataframe\">\n",
       "  <thead>\n",
       "    <tr style=\"text-align: right;\">\n",
       "      <th></th>\n",
       "      <th>Cases - cumulative total</th>\n",
       "      <th>Deaths - cumulative total</th>\n",
       "    </tr>\n",
       "  </thead>\n",
       "  <tbody>\n",
       "    <tr>\n",
       "      <th>count</th>\n",
       "      <td>2.370000e+02</td>\n",
       "      <td>237.000000</td>\n",
       "    </tr>\n",
       "    <tr>\n",
       "      <th>mean</th>\n",
       "      <td>8.933757e+05</td>\n",
       "      <td>18694.924051</td>\n",
       "    </tr>\n",
       "    <tr>\n",
       "      <th>std</th>\n",
       "      <td>3.612594e+06</td>\n",
       "      <td>68482.838989</td>\n",
       "    </tr>\n",
       "    <tr>\n",
       "      <th>min</th>\n",
       "      <td>0.000000e+00</td>\n",
       "      <td>0.000000</td>\n",
       "    </tr>\n",
       "    <tr>\n",
       "      <th>25%</th>\n",
       "      <td>5.605000e+03</td>\n",
       "      <td>49.000000</td>\n",
       "    </tr>\n",
       "    <tr>\n",
       "      <th>50%</th>\n",
       "      <td>5.947100e+04</td>\n",
       "      <td>981.000000</td>\n",
       "    </tr>\n",
       "    <tr>\n",
       "      <th>75%</th>\n",
       "      <td>3.940930e+05</td>\n",
       "      <td>7076.000000</td>\n",
       "    </tr>\n",
       "    <tr>\n",
       "      <th>max</th>\n",
       "      <td>3.740533e+07</td>\n",
       "      <td>622459.000000</td>\n",
       "    </tr>\n",
       "  </tbody>\n",
       "</table>\n",
       "</div>"
      ],
      "text/plain": [
       "       Cases - cumulative total  Deaths - cumulative total\n",
       "count              2.370000e+02                 237.000000\n",
       "mean               8.933757e+05               18694.924051\n",
       "std                3.612594e+06               68482.838989\n",
       "min                0.000000e+00                   0.000000\n",
       "25%                5.605000e+03                  49.000000\n",
       "50%                5.947100e+04                 981.000000\n",
       "75%                3.940930e+05                7076.000000\n",
       "max                3.740533e+07              622459.000000"
      ]
     },
     "execution_count": 5,
     "metadata": {},
     "output_type": "execute_result"
    }
   ],
   "source": [
    "df.describe()"
   ]
  },
  {
   "cell_type": "markdown",
   "metadata": {},
   "source": [
    "## Step 3: Clean Data- Detect-Remove Outliers\n",
    "### 3.1 Correlation between x & y before dectecting outliers"
   ]
  },
  {
   "cell_type": "code",
   "execution_count": 6,
   "metadata": {},
   "outputs": [
    {
     "data": {
      "text/plain": [
       "LinregressResult(slope=0.01765140764272694, intercept=2925.585831249611, rvalue=0.9311436786461393, pvalue=6.1412851231963546e-105, stderr=0.0004509287401127967)"
      ]
     },
     "execution_count": 6,
     "metadata": {},
     "output_type": "execute_result"
    }
   ],
   "source": [
    "import scipy.stats as stats\n",
    "x=df['Cases - cumulative total']\n",
    "y=df['Deaths - cumulative total']\n",
    "stats.linregress(x,y)"
   ]
  },
  {
   "cell_type": "markdown",
   "metadata": {},
   "source": [
    "### 3.2 Outliers Detection\n",
    "#### BoxPlot before detecting Outliers base on Z- Score value"
   ]
  },
  {
   "cell_type": "code",
   "execution_count": 7,
   "metadata": {},
   "outputs": [
    {
     "data": {
      "text/plain": [
       "[Text(0.5, 0, 'Cases - cumulative total'), Text(0, 0.5, ' Z Score Value')]"
      ]
     },
     "execution_count": 7,
     "metadata": {},
     "output_type": "execute_result"
    },
    {
     "data": {
      "image/png": "[encoded data removed]",
      "text/plain": [
       "<Figure size 432x288 with 1 Axes>"
      ]
     },
     "metadata": {
      "needs_background": "light"
     },
     "output_type": "display_data"
    }
   ],
   "source": [
    "ax=sns.boxplot(y=stats.zscore(x))\n",
    "ax.set(xlabel='Cases - cumulative total',ylabel=' Z Score Value')"
   ]
  },
  {
   "cell_type": "markdown",
   "metadata": {},
   "source": [
    "#### Scatter Plot with Outliers"
   ]
  },
  {
   "cell_type": "code",
   "execution_count": 8,
   "metadata": {},
   "outputs": [
    {
     "data": {
      "image/png": "[encoded data removed]",
      "text/plain": [
       "<Figure size 864x432 with 1 Axes>"
      ]
     },
     "metadata": {
      "needs_background": "light"
     },
     "output_type": "display_data"
    }
   ],
   "source": [
    "plt.figure(figsize=(12, 6))\n",
    "sns.set_style('whitegrid')\n",
    "sns.scatterplot(data=df,x=df['Cases - cumulative total'],y=df['Deaths - cumulative total'],color='r',alpha=0.8)\n",
    "plt.title('Scatter Plot of Cases & Deaths - Cumulative Total',size=14);\n"
   ]
  },
  {
   "cell_type": "markdown",
   "metadata": {},
   "source": [
    "### 3.3 Working with Outliers: Correcting, Removing"
   ]
  },
  {
   "cell_type": "markdown",
   "metadata": {},
   "source": [
    "#### Create Clean Data Frame with loc & iloc function "
   ]
  },
  {
   "cell_type": "code",
   "execution_count": 9,
   "metadata": {},
   "outputs": [
    {
     "data": {
      "text/html": [
       "<div>\n",
       "<style scoped>\n",
       "    .dataframe tbody tr th:only-of-type {\n",
       "        vertical-align: middle;\n",
       "    }\n",
       "\n",
       "    .dataframe tbody tr th {\n",
       "        vertical-align: top;\n",
       "    }\n",
       "\n",
       "    .dataframe thead th {\n",
       "        text-align: right;\n",
       "    }\n",
       "</style>\n",
       "<table border=\"1\" class=\"dataframe\">\n",
       "  <thead>\n",
       "    <tr style=\"text-align: right;\">\n",
       "      <th></th>\n",
       "      <th>Name</th>\n",
       "      <th>WHO Region</th>\n",
       "      <th>Cases - cumulative total</th>\n",
       "      <th>Deaths - cumulative total</th>\n",
       "    </tr>\n",
       "  </thead>\n",
       "  <tbody>\n",
       "    <tr>\n",
       "      <th>219</th>\n",
       "      <td>Saba</td>\n",
       "      <td>Americas</td>\n",
       "      <td>10</td>\n",
       "      <td>0</td>\n",
       "    </tr>\n",
       "    <tr>\n",
       "      <th>220</th>\n",
       "      <td>Marshall Islands</td>\n",
       "      <td>Western Pacific</td>\n",
       "      <td>4</td>\n",
       "      <td>0</td>\n",
       "    </tr>\n",
       "    <tr>\n",
       "      <th>221</th>\n",
       "      <td>Vanuatu</td>\n",
       "      <td>Western Pacific</td>\n",
       "      <td>3</td>\n",
       "      <td>0</td>\n",
       "    </tr>\n",
       "    <tr>\n",
       "      <th>222</th>\n",
       "      <td>Palau</td>\n",
       "      <td>Western Pacific</td>\n",
       "      <td>2</td>\n",
       "      <td>0</td>\n",
       "    </tr>\n",
       "    <tr>\n",
       "      <th>223</th>\n",
       "      <td>Samoa</td>\n",
       "      <td>Western Pacific</td>\n",
       "      <td>1</td>\n",
       "      <td>0</td>\n",
       "    </tr>\n",
       "  </tbody>\n",
       "</table>\n",
       "</div>"
      ],
      "text/plain": [
       "                 Name       WHO Region  Cases - cumulative total  \\\n",
       "219              Saba         Americas                        10   \n",
       "220  Marshall Islands  Western Pacific                         4   \n",
       "221           Vanuatu  Western Pacific                         3   \n",
       "222             Palau  Western Pacific                         2   \n",
       "223             Samoa  Western Pacific                         1   \n",
       "\n",
       "     Deaths - cumulative total  \n",
       "219                          0  \n",
       "220                          0  \n",
       "221                          0  \n",
       "222                          0  \n",
       "223                          0  "
      ]
     },
     "execution_count": 9,
     "metadata": {},
     "output_type": "execute_result"
    }
   ],
   "source": [
    "# Delect 0 value - No statistical Significant\n",
    "df1=df.loc[df['Cases - cumulative total'] >0]\n",
    "# Delelect Outliers ( absolute of z-score greater than 3)\n",
    "z = stats.zscore(df1['Cases - cumulative total'])\n",
    "clean_df =df1.iloc[(z<3) & (z>-3)]\n",
    "clean_df.tail(5)"
   ]
  },
  {
   "cell_type": "markdown",
   "metadata": {},
   "source": [
    "### 4.Hypothesis Test for Regression Model \n",
    "#### 4.1 Finding Parameters and Correlation between (x,y) of Clean Data\n"
   ]
  },
  {
   "cell_type": "code",
   "execution_count": 10,
   "metadata": {},
   "outputs": [
    {
     "data": {
      "text/html": [
       "<div>\n",
       "<style scoped>\n",
       "    .dataframe tbody tr th:only-of-type {\n",
       "        vertical-align: middle;\n",
       "    }\n",
       "\n",
       "    .dataframe tbody tr th {\n",
       "        vertical-align: top;\n",
       "    }\n",
       "\n",
       "    .dataframe thead th {\n",
       "        text-align: right;\n",
       "    }\n",
       "</style>\n",
       "<table border=\"1\" class=\"dataframe\">\n",
       "  <thead>\n",
       "    <tr style=\"text-align: right;\">\n",
       "      <th></th>\n",
       "      <th>Cases - cumulative total</th>\n",
       "      <th>Deaths - cumulative total</th>\n",
       "    </tr>\n",
       "  </thead>\n",
       "  <tbody>\n",
       "    <tr>\n",
       "      <th>count</th>\n",
       "      <td>2.210000e+02</td>\n",
       "      <td>221.000000</td>\n",
       "    </tr>\n",
       "    <tr>\n",
       "      <th>mean</th>\n",
       "      <td>5.489544e+05</td>\n",
       "      <td>12666.393665</td>\n",
       "    </tr>\n",
       "    <tr>\n",
       "      <th>std</th>\n",
       "      <td>1.220781e+06</td>\n",
       "      <td>33575.363527</td>\n",
       "    </tr>\n",
       "    <tr>\n",
       "      <th>min</th>\n",
       "      <td>1.000000e+00</td>\n",
       "      <td>0.000000</td>\n",
       "    </tr>\n",
       "    <tr>\n",
       "      <th>25%</th>\n",
       "      <td>8.955000e+03</td>\n",
       "      <td>103.000000</td>\n",
       "    </tr>\n",
       "    <tr>\n",
       "      <th>50%</th>\n",
       "      <td>7.995900e+04</td>\n",
       "      <td>1053.000000</td>\n",
       "    </tr>\n",
       "    <tr>\n",
       "      <th>75%</th>\n",
       "      <td>4.082450e+05</td>\n",
       "      <td>7214.000000</td>\n",
       "    </tr>\n",
       "    <tr>\n",
       "      <th>max</th>\n",
       "      <td>6.766541e+06</td>\n",
       "      <td>252927.000000</td>\n",
       "    </tr>\n",
       "  </tbody>\n",
       "</table>\n",
       "</div>"
      ],
      "text/plain": [
       "       Cases - cumulative total  Deaths - cumulative total\n",
       "count              2.210000e+02                 221.000000\n",
       "mean               5.489544e+05               12666.393665\n",
       "std                1.220781e+06               33575.363527\n",
       "min                1.000000e+00                   0.000000\n",
       "25%                8.955000e+03                 103.000000\n",
       "50%                7.995900e+04                1053.000000\n",
       "75%                4.082450e+05                7214.000000\n",
       "max                6.766541e+06              252927.000000"
      ]
     },
     "execution_count": 10,
     "metadata": {},
     "output_type": "execute_result"
    }
   ],
   "source": [
    "clean_df.describe()"
   ]
  },
  {
   "cell_type": "code",
   "execution_count": 11,
   "metadata": {},
   "outputs": [
    {
     "data": {
      "text/plain": [
       "LinregressResult(slope=0.02315981717824699, intercept=-47.28889295770023, rvalue=0.842077431854981, pvalue=1.2187662332084403e-60, stderr=0.0010023908208546095)"
      ]
     },
     "execution_count": 11,
     "metadata": {},
     "output_type": "execute_result"
    }
   ],
   "source": [
    "clean_x=clean_df['Cases - cumulative total']\n",
    "clean_y=clean_df['Deaths - cumulative total']\n",
    "\n",
    "stats.linregress(clean_x,clean_y)"
   ]
  },
  {
   "cell_type": "markdown",
   "metadata": {},
   "source": [
    "### Step 4: Data Visualization with Scatter Plot "
   ]
  },
  {
   "cell_type": "code",
   "execution_count": 12,
   "metadata": {},
   "outputs": [
    {
     "name": "stderr",
     "output_type": "stream",
     "text": [
      "C:\\Users\\user\\anaconda3\\lib\\site-packages\\seaborn\\_decorators.py:36: FutureWarning: Pass the following variables as keyword args: x, y. From version 0.12, the only valid positional argument will be `data`, and passing other arguments without an explicit keyword will result in an error or misinterpretation.\n",
      "  warnings.warn(\n"
     ]
    },
    {
     "data": {
      "image/png": "[encoded data removed]",
      "text/plain": [
       "<Figure size 864x576 with 1 Axes>"
      ]
     },
     "metadata": {},
     "output_type": "display_data"
    }
   ],
   "source": [
    "clean_x=clean_df['Cases - cumulative total']\n",
    "clean_y=clean_df['Deaths - cumulative total']\n",
    "\n",
    "plt.figure(figsize=(12,8))\n",
    "#sns.scatterplot(clean_x,clean_y,data=clean_df,color='r')\n",
    "sns.regplot(clean_x,clean_y,data=clean_df,color='r',ci=None,fit_reg=True)\n",
    "plt.title('Scatter Plot of Cases & Deaths - Cumulative Total',size=14);"
   ]
  },
  {
   "cell_type": "code",
   "execution_count": 13,
   "metadata": {},
   "outputs": [],
   "source": [
    "#stats.ttest_ind(clean_x,clean_y,axis=0)"
   ]
  },
  {
   "cell_type": "code",
   "execution_count": null,
   "metadata": {},
   "outputs": [],
   "source": []
  },
  {
   "cell_type": "code",
   "execution_count": null,
   "metadata": {},
   "outputs": [],
   "source": []
  }
 ],
 "metadata": {
  "kernelspec": {
   "display_name": "Python 3",
   "language": "python",
   "name": "python3"
  },
  "language_info": {
   "codemirror_mode": {
    "name": "ipython",
    "version": 3
   },
   "file_extension": ".py",
   "mimetype": "text/x-python",
   "name": "python",
   "nbconvert_exporter": "python",
   "pygments_lexer": "ipython3",
   "version": "3.8.5"
  }
 },
 "nbformat": 4,
 "nbformat_minor": 4
}
