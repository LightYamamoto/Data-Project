{
 "cells": [
  {
   "cell_type": "code",
   "execution_count": null,
   "metadata": {},
   "outputs": [
    {
     "ename": "",
     "evalue": "",
     "output_type": "error",
     "traceback": [
      "\u001b[1;31mFailed to start the Kernel. \n",
      "Traceback (most recent call last):\n",
      "  File \"/Users/Yamamoto/.vscode/extensions/ms-toolsai.jupyter-2022.6.1201981810/pythonFiles/vscode_datascience_helpers/jupyter_daemon.py\", line 158, in _start_notebook\n",
      "    from notebook import notebookapp as app\n",
      "  File \"/opt/anaconda3/envs/virtual_workspace/lib/python3.9/site-packages/notebook/notebookapp.py\", line 58, in <module>\n",
      "    raise ImportError(_(\"The Jupyter Notebook requires tornado >= 5.0, but you have %s\") % tornado.version)\n",
      "ImportError: The Jupyter Notebook requires tornado >= 5.0, but you have 4.5.3\n",
      "\n",
      "During handling of the above exception, another exception occurred:\n",
      "\n",
      "Traceback (most recent call last):\n",
      "  File \"/Users/Yamamoto/.vscode/extensions/ms-toolsai.jupyter-2022.6.1201981810/pythonFiles/vscode_datascience_helpers/daemon/daemon_python.py\", line 54, in _decorator\n",
      "    return func(self, *args, **kwargs)\n",
      "  File \"/Users/Yamamoto/.vscode/extensions/ms-toolsai.jupyter-2022.6.1201981810/pythonFiles/vscode_datascience_helpers/jupyter_daemon.py\", line 111, in m_exec_module_observable\n",
      "    self._start_notebook(args, cwd, env)\n",
      "  File \"/Users/Yamamoto/.vscode/extensions/ms-toolsai.jupyter-2022.6.1201981810/pythonFiles/vscode_datascience_helpers/jupyter_daemon.py\", line 160, in _start_notebook\n",
      "    from notebook import app as app\n",
      "ImportError: cannot import name 'app' from 'notebook' (/opt/anaconda3/envs/virtual_workspace/lib/python3.9/site-packages/notebook/__init__.py)\n",
      "\n",
      "Failed to run jupyter as observable with args notebook --no-browser --notebook-dir=\"/Users/Yamamoto/Documents/Data Analyst Project\" --config=/var/folders/tz/pl8d522x6kj_m5gh9l91ngnc0000gp/T/56e83913-7a89-4982-800c-14b0ee9bb0af/jupyter_notebook_config.py --NotebookApp.iopub_data_rate_limit=10000000000.0. \n",
      "View Jupyter <a href='command:jupyter.viewOutput'>log</a> for further details."
     ]
    }
   ],
   "source": [
    "import numpy as np"
   ]
  },
  {
   "cell_type": "markdown",
   "metadata": {},
   "source": [
    "# Sale Analytics In An E-Com Business\n",
    "## Conduct Anual Report \n",
    "### Questions:\n",
    "1. What is the best month for sale?\n",
    "2. What city have best sale ?\n",
    "3. What time should we display ads to maximize the likelihood of customer's buying product?\n",
    "4. What products are most often sold together?\n",
    "5. What product sold the most?\n",
    "6. Why do you think it sold the most?"
   ]
  },
  {
   "cell_type": "markdown",
   "metadata": {},
   "source": []
  }
 ],
 "metadata": {
  "kernelspec": {
   "display_name": "Python 3.9.7 ('base')",
   "language": "python",
   "name": "python3"
  },
  "language_info": {
   "name": "python",
   "version": "3.9.7"
  },
  "orig_nbformat": 4,
  "vscode": {
   "interpreter": {
    "hash": "40d3a090f54c6569ab1632332b64b2c03c39dcf918b08424e98f38b5ae0af88f"
   }
  }
 },
 "nbformat": 4,
 "nbformat_minor": 2
}
