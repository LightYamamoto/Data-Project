{
 "cells": [
  {
   "cell_type": "code",
   "execution_count": 1,
   "metadata": {},
   "outputs": [],
   "source": [
    "import pyspark\n",
    "from pyspark.sql import SparkSession\n",
    "from pyspark.sql.types import *\n",
    "from pyspark.sql.functions import *\n"
   ]
  },
  {
   "cell_type": "code",
   "execution_count": 2,
   "metadata": {},
   "outputs": [
    {
     "name": "stdout",
     "output_type": "stream",
     "text": [
      ":: loading settings :: url = jar:file:/Users/Yamamoto/Spark/jars/ivy-2.5.0.jar!/org/apache/ivy/core/settings/ivysettings.xml\n"
     ]
    },
    {
     "name": "stderr",
     "output_type": "stream",
     "text": [
      "Ivy Default Cache set to: /Users/Yamamoto/.ivy2/cache\n",
      "The jars for the packages stored in: /Users/Yamamoto/.ivy2/jars\n",
      "org.mongodb.spark#mongo-spark-connector_2.12 added as a dependency\n",
      ":: resolving dependencies :: org.apache.spark#spark-submit-parent-e260227d-5e7f-4246-bddb-d29f6e6fd620;1.0\n",
      "\tconfs: [default]\n",
      "\tfound org.mongodb.spark#mongo-spark-connector_2.12;3.0.1 in central\n",
      "\tfound org.mongodb#mongodb-driver-sync;4.0.5 in central\n",
      "\tfound org.mongodb#bson;4.0.5 in central\n",
      "\tfound org.mongodb#mongodb-driver-core;4.0.5 in central\n",
      ":: resolution report :: resolve 512ms :: artifacts dl 18ms\n",
      "\t:: modules in use:\n",
      "\torg.mongodb#bson;4.0.5 from central in [default]\n",
      "\torg.mongodb#mongodb-driver-core;4.0.5 from central in [default]\n",
      "\torg.mongodb#mongodb-driver-sync;4.0.5 from central in [default]\n",
      "\torg.mongodb.spark#mongo-spark-connector_2.12;3.0.1 from central in [default]\n",
      "\t---------------------------------------------------------------------\n",
      "\t|                  |            modules            ||   artifacts   |\n",
      "\t|       conf       | number| search|dwnlded|evicted|| number|dwnlded|\n",
      "\t---------------------------------------------------------------------\n",
      "\t|      default     |   4   |   0   |   0   |   0   ||   4   |   0   |\n",
      "\t---------------------------------------------------------------------\n",
      ":: retrieving :: org.apache.spark#spark-submit-parent-e260227d-5e7f-4246-bddb-d29f6e6fd620\n",
      "\tconfs: [default]\n",
      "\t0 artifacts copied, 4 already retrieved (0kB/13ms)\n",
      "Setting default log level to \"WARN\".\n",
      "To adjust logging level use sc.setLogLevel(newLevel). For SparkR, use setLogLevel(newLevel).\n"
     ]
    }
   ],
   "source": [
    "spark = SparkSession \\\n",
    "    .builder \\\n",
    "    .master('local[*]') \\\n",
    "    .appName('MyApp') \\\n",
    "    .config('spark.jars.packages', 'org.mongodb.spark:mongo-spark-connector_2.12:3.0.1') \\\n",
    "    .config('spark.mongodb.input.uri', 'mongodb://127.0.0.1/DEP303_ASM1.Questions') \\\n",
    "    .config('spark.mongodb.output.uri', 'mongodb://127.0.0.1/DEP303_ASM1.Questions') \\\n",
    "    .getOrCreate()"
   ]
  },
  {
   "cell_type": "code",
   "execution_count": 3,
   "metadata": {},
   "outputs": [],
   "source": [
    "# schema = StructType([\n",
    "#     StructField(\"ID\",IntegerType()),\n",
    "#     StructField(\"OwnerUserId\",IntegerType()),\n",
    "#     StructField(\"CreationDate\",DateType()),\n",
    "#     StructField(\"ClosedDate\",DateType()),\n",
    "#     StructField(\"Score\",IntegerType()),\n",
    "#     StructField(\"Body\",StringType()),\n",
    "#     StructField(\"Body\",StringType()),\n",
    "    \n",
    "# ])\n"
   ]
  },
  {
   "cell_type": "markdown",
   "metadata": {},
   "source": [
    "##\tĐọc dữ liệu từ MongoDB"
   ]
  },
  {
   "cell_type": "code",
   "execution_count": 7,
   "metadata": {},
   "outputs": [
    {
     "name": "stderr",
     "output_type": "stream",
     "text": [
      "                                                                                \r"
     ]
    },
    {
     "name": "stdout",
     "output_type": "stream",
     "text": [
      "+--------------------+--------------------+--------------------+----+-----------+-----+--------------------+--------------------+\n",
      "|                Body|          ClosedDate|        CreationDate|  Id|OwnerUserId|Score|               Title|                 _id|\n",
      "+--------------------+--------------------+--------------------+----+-----------+-----+--------------------+--------------------+\n",
      "|<p>Has anyone got...|                  NA|2008-08-01T15:50:08Z| 120|         83|   21|   ASP.NET Site Maps|{62b72bea57797060...|\n",
      "|<p>I would like t...|                  NA|2008-08-03T11:12:52Z| 650|        143|   79|Automatically upd...|{62b72bea57797060...|\n",
      "|<p>I'm trying to ...|                  NA|2008-08-03T20:35:01Z| 810|        233|    9|Visual Studio Set...|{62b72bea57797060...|\n",
      "|<p>What's the sim...|                  NA|2008-08-04T00:47:25Z| 930|        245|   28|How do I connect ...|{62b72bea57797060...|\n",
      "|<p>I need to grab...|                  NA|2008-08-04T03:59:42Z|1010|         67|   14|How to get the va...|{62b72bea57797060...|\n",
      "|<p>I'm looking fo...|                  NA|2008-08-04T05:45:22Z|1040|        254|   42|How do I delete a...|{62b72bea57797060...|\n",
      "|<p>What is the co...|                  NA|2008-08-04T07:34:44Z|1070|        236|   17|Process size on UNIX|{62b72bea57797060...|\n",
      "|<p>I am using CCN...|                  NA|2008-08-04T11:37:24Z|1160|        120|   36|Use SVN Revision ...|{62b72bea57797060...|\n",
      "|<p>I am looking t...|                  NA|2008-08-04T12:22:07Z|1180|        281|   17|How to make subdo...|{62b72bea57797060...|\n",
      "|<p>I am using MSB...|                  NA|2008-08-04T14:55:04Z|1300|         91|   23|Is nAnt still sup...|{62b72bea57797060...|\n",
      "|<p>I've written a...|                  NA|2008-08-01T13:57:07Z|  80|         26|   26|SQLStatement.exec...|{62b72bea57797060...|\n",
      "|<p>Are there any ...|2012-12-26T03:45:49Z|2008-08-01T14:41:24Z|  90|         58|  144|Good branching an...|{62b72bea57797060...|\n",
      "|<p>I've been writ...|2016-03-26T05:23:29Z|2008-08-02T15:11:47Z| 470|         71|   13|Homegrown consump...|{62b72bea57797060...|\n",
      "|<p>I'm setting up...|                  NA|2008-08-04T16:33:36Z|1390|         60|   18|Is Windows Server...|{62b72bea57797060...|\n",
      "|<p>I always creat...|                  NA|2008-08-04T21:27:53Z|1600|        230|   18|What is the best ...|{62b72bea57797060...|\n",
      "|<p>If I'm adding ...|                  NA|2008-08-04T21:37:31Z|1610|        328|   63|Can I logically r...|{62b72bea57797060...|\n",
      "|<p>Getting back i...|                  NA|2008-08-05T00:51:49Z|1760|        234|   51|.NET Unit Testing...|{62b72bea57797060...|\n",
      "|<p>Is it possible...|                  NA|2008-08-05T01:27:34Z|1790|        194|   13|Federated (Synced...|{62b72bea57797060...|\n",
      "|<p>I have a littl...|                  NA|2008-08-01T23:22:08Z| 260|         91|   49|Adding scripting ...|{62b72bea57797060...|\n",
      "|<p>I currently us...|                  NA|2008-08-05T13:07:40Z|2250|        383|   83|Datatable vs Dataset|{62b72bea57797060...|\n",
      "+--------------------+--------------------+--------------------+----+-----------+-----+--------------------+--------------------+\n",
      "only showing top 20 rows\n",
      "\n",
      "root\n",
      " |-- Body: string (nullable = true)\n",
      " |-- ClosedDate: string (nullable = true)\n",
      " |-- CreationDate: string (nullable = true)\n",
      " |-- Id: integer (nullable = true)\n",
      " |-- OwnerUserId: string (nullable = true)\n",
      " |-- Score: integer (nullable = true)\n",
      " |-- Title: string (nullable = true)\n",
      " |-- _id: struct (nullable = true)\n",
      " |    |-- oid: string (nullable = true)\n",
      "\n"
     ]
    },
    {
     "name": "stderr",
     "output_type": "stream",
     "text": [
      "                                                                                \r"
     ]
    }
   ],
   "source": [
    "#.format('com.mongodb.spark.sql.DefaultSource')\n",
    "df = spark.read \\\n",
    "    .format('mongo') \\\n",
    "    .option(\"database\",\"DEP303_ASM1\")\\\n",
    "    .option(\"collection\",\"Questions\")\\\n",
    "    .load()\n",
    "df.show()\n",
    "df.printSchema()"
   ]
  },
  {
   "cell_type": "markdown",
   "metadata": {},
   "source": [
    "## Chuẩn hóa dữ liệu\t\n",
    "Do dữ liệu ở MongoDB được import từ csv nên các trường như CreationDate, ClosedDate sẽ được lưu dưới dạng String chứ không phải Datetime nên bạn sẽ cần chuyển về kiểu dữ liệu DateType(), hoặc có một số giá trị trong trường OwnerUserId có giá trị là \"NA\", bạn cũng sẽ phải chuyển các giá trị \"NA\" về null và để kiểu dữ liệu là IntegerType(). Sau khi đọc dữ liệu từ Question thì Dataframe sẽ có Schema như sau:\n",
    "\n",
    "root\n",
    " |-- Id: integer (nullable = true)\n",
    "\n",
    " |-- OwnerUserId: integer (nullable = true)\n",
    "\n",
    " |-- CreationDate: date (nullable = true)\n",
    "\n",
    " |-- ClosedDate: date (nullable = true)\n",
    "\n",
    " |-- Score: integer (nullable = true)\n",
    "\n",
    " |-- Title: string (nullable = true)\n",
    "\n",
    " |-- Body: string (nullable = true)"
   ]
  },
  {
   "cell_type": "code",
   "execution_count": 8,
   "metadata": {},
   "outputs": [
    {
     "name": "stdout",
     "output_type": "stream",
     "text": [
      "root\n",
      " |-- Id: integer (nullable = true)\n",
      " |-- OwnerUserId: integer (nullable = true)\n",
      " |-- CreationDate: date (nullable = true)\n",
      " |-- ClosedDate: date (nullable = true)\n",
      " |-- Score: integer (nullable = true)\n",
      " |-- Title: string (nullable = true)\n",
      " |-- Body: string (nullable = true)\n",
      "\n"
     ]
    }
   ],
   "source": [
    "#một số giá trị trong trường OwnerUserId có giá trị là \"NA\", bạn cũng sẽ phải chuyển các giá trị \"NA\" về null và để kiểu dữ liệu là IntegerType()\n",
    "df.withColumn(\"OwnerUserId\",regexp_replace(\"OwnerUserId\",\"NA\",\"null\"))\n",
    "\n",
    "transformed_df = df.select(\n",
    "    col(\"Id\").cast(\"Integer\"),\n",
    "    col(\"OwnerUserId\").cast(\"Integer\"),\n",
    "    col(\"CreationDate\").cast(\"Date\"),\n",
    "    col(\"ClosedDate\").cast(\"Date\"),\n",
    "    col(\"Score\"),\n",
    "    col(\"Title\"),\n",
    "    col(\"Body\")\n",
    "    )\n",
    "\n",
    "    \n",
    "# transformed_df.sort(\"OwnerUserId\").show()\n",
    "transformed_df.printSchema()"
   ]
  },
  {
   "cell_type": "code",
   "execution_count": 29,
   "metadata": {},
   "outputs": [],
   "source": [
    "#Bạn phải \n",
    "#transformed_df.createTempView(\"transformed_table\")\n",
    "#spark.sql(\"select * from transformed_table where OwneruserId is NULL \").show()"
   ]
  },
  {
   "cell_type": "code",
   "execution_count": 30,
   "metadata": {},
   "outputs": [
    {
     "name": "stderr",
     "output_type": "stream",
     "text": [
      "[Stage 22:>                                                         (0 + 1) / 1]\r"
     ]
    },
    {
     "name": "stdout",
     "output_type": "stream",
     "text": [
      "+-----------+\n",
      "|OwnerUserId|\n",
      "+-----------+\n",
      "|       null|\n",
      "|       null|\n",
      "|       null|\n",
      "+-----------+\n",
      "only showing top 3 rows\n",
      "\n"
     ]
    },
    {
     "name": "stderr",
     "output_type": "stream",
     "text": [
      "                                                                                \r"
     ]
    }
   ],
   "source": [
    "#sử dụng các toán tử IS NULL hoặc IS NOT NULL để kiểm tra một giá trị NULL. Kiểm tra kết quả\n",
    "transformed_df.select(\"OwnerUserId\").filter(\"OwnerUserId is NULL\").show(3)\n"
   ]
  },
  {
   "cell_type": "markdown",
   "metadata": {},
   "source": [
    "## 4. Yêu cầu 1: Tính số lần xuất hiện của các ngôn ngữ lập trình\n",
    "Với yêu cầu này, bạn sẽ cần đếm số lần mà các ngôn ngữ lập trình xuất hiện trong nội dung của các câu hỏi. Các ngôn ngữ lập trình cần kiểm tra là:\n",
    "Java, Python, C++, C#, Go, Ruby, Javascript, PHP, HTML, CSS, SQL\n",
    "Để hoàn thành yêu cầu này, bạn có thể sử dụng regex để trích xuất các ngôn ngữ lập trình đã xuất hiện trong từng câu hỏi. Sau đó sử dụng các phép Aggregation để tính tổng theo từng ngôn ngữ. Kết quả sẽ như sau:"
   ]
  },
  {
   "cell_type": "code",
   "execution_count": null,
   "metadata": {},
   "outputs": [],
   "source": [
    "'''\n",
    "+-------------------+------+                                                    \n",
    "|Programing Language| Count|\n",
    "+-------------------+------+\n",
    "|                 C#| 32414|\n",
    "|                C++| 28866|\n",
    "|                CSS| 33556|\n",
    "|               HTML| 89646|\n",
    "|                PHP| 63479|\n",
    "|                SQL|146094|\n",
    "|                 Go| 79912|\n",
    "|               Ruby| 16318|\n",
    "|             Python| 44817|\n",
    "|               Java|106659|\n",
    "+-------------------+------+\n",
    "'''"
   ]
  },
  {
   "cell_type": "code",
   "execution_count": 91,
   "metadata": {},
   "outputs": [],
   "source": [
    "# lit(str) thêm 1 string vào column  withColumn(col, when().when().when())\n",
    "#sử dụng regex để trích xuất các ngôn ngữ lập trình đã xuất hiện của cả 2 cột Titlte và cả Body \n",
    "after_regrex_df = transformed_df\\\n",
    "    .withColumn(\"ProgramingLanguage\"\n",
    "            ,when(col(\"Title\").rlike('[Cc]#(?=[?.,\\s])'),lit('C#'))   \n",
    "            .when(col(\"Title\").rlike('[Cc]{1}\\+{2}(?=[?.,\\s])'),lit('C++'))  \n",
    "            .when(col(\"Title\").rlike('[Cc]{1}[Ss]{1}[Ss]{1}(?=[?.,\\s])'),lit('CSS'))   \n",
    "            .when(col(\"Title\").rlike('[Hh]{1}[Tt]{1}[Mm]{1}[Ll]{1}(?=[?.,\\s])'),'HTML')        \n",
    "            .when(col(\"Title\").rlike( '[Pp]{1}[Hh]{1}[Pp]{1}(?=[?.,\\s])'),'PHP')  \n",
    "            .when(col(\"Title\").rlike( '[Ss]{1}[Qq]{1}[Ll]{1}(?=[?.,\\s])'),'SQL')    \n",
    "            .when(col(\"Title\").rlike('Go(?=[?.,\\s])'),'Go')           \n",
    "            .when(col(\"Title\").rlike('[Rr]{1}[Uu]{1}[Bb]{1}[Yy]{1}(?=[?.,\\s])'),'Ruby')     \n",
    "            .when(col(\"Title\").rlike('[Pp]{1}[Yy]{1}[Tt]{1}[Hh]{1}[Oo]{1}[Nn]{1}(?=[?.,\\s])'),'Python') \n",
    "            .when(col(\"Title\").rlike('[Jj]{1}[Aa]{1}[Vv]{1}[Aa]{1}(?=[?.,\\s])'),'Java')  \n",
    "            .when(col(\"Body\").rlike('[Cc]#(?=[?.,\\s])'),lit('C#'))   \n",
    "            .when(col(\"Body\").rlike('[Cc]{1}\\+{2}(?=[?.,\\s])'),lit('C++'))  \n",
    "            .when(col(\"Body\").rlike('[Cc]{1}[Ss]{1}[Ss]{1}(?=[?.,\\s])'),lit('CSS'))   \n",
    "            .when(col(\"Body\").rlike('[Hh]{1}[Tt]{1}[Mm]{1}[Ll]{1}(?=[?.,\\s])'),'HTML')  \n",
    "            .when(col(\"Body\").rlike( '[Pp]{1}[Hh]{1}[Pp]{1}(?=[?.,\\s])'),'PHP')  \n",
    "            .when(col(\"Body\").rlike( '[Ss]{1}[Qq]{1}[Ll]{1}(?=[?.,\\s])'),'SQL')         \n",
    "            .when(col(\"Body\").rlike('Go(?=[?.,\\s])'),'Go')            \n",
    "            .when(col(\"Body\").rlike('[Rr]{1}[Uu]{1}[Bb]{1}[Yy]{1}(?=[?.,\\s])'),'Ruby')       \n",
    "            .when(col(\"Body\").rlike('[Pp]{1}[Yy]{1}[Tt]{1}[Hh]{1}[Oo]{1}[Nn]{1}(?=[?.,\\s])'),'Python')    \n",
    "            .when(col(\"Body\").rlike('[Jj]{1}[Aa]{1}[Vv]{1}[Aa]{1}(?=[?.,\\s])'),'Java')  \n",
    "            )\n",
    "            \n",
    "         \n",
    "            "
   ]
  },
  {
   "cell_type": "code",
   "execution_count": 93,
   "metadata": {},
   "outputs": [
    {
     "name": "stderr",
     "output_type": "stream",
     "text": [
      "[Stage 131:=======================================================(32 + 0) / 32]\r"
     ]
    },
    {
     "name": "stdout",
     "output_type": "stream",
     "text": [
      "+------------------+-----+\n",
      "|ProgramingLanguage|count|\n",
      "+------------------+-----+\n",
      "|                C#|33170|\n",
      "|               C++|23325|\n",
      "|               CSS|33131|\n",
      "|              HTML|76034|\n",
      "|               PHP|73182|\n",
      "|               SQL|72986|\n",
      "|                Go| 2077|\n",
      "|              Ruby|11048|\n",
      "|            Python|38556|\n",
      "|              Java|78680|\n",
      "+------------------+-----+\n",
      "\n"
     ]
    },
    {
     "name": "stderr",
     "output_type": "stream",
     "text": [
      "                                                                                \r"
     ]
    }
   ],
   "source": [
    "#sử dụng các phép Aggregation để tính tổng theo từng ngôn ngữ\n",
    "answer1_df = after_regrex_df\\\n",
    "    .where(\"ProgramingLanguage is Not NULL\")\\\n",
    "    .groupBy(\"ProgramingLanguage\")\\\n",
    "    .count()\n",
    "answer1_df.show()"
   ]
  },
  {
   "cell_type": "markdown",
   "metadata": {},
   "source": [
    "## 5. Yêu cầu 2 : Tìm các domain được sử dụng nhiều nhất trong các câu hỏi\n",
    "Trong các câu hỏi thường chúng ta sẽ dẫn link từ các trang web khác vào. Ở yêu cầu này, bạn sẽ cần tìm xem 20 domain nào được người dùng sử dụng nhiều nhất. Chú ý rằng các domain sẽ chỉ gồm tên domain, các bạn sẽ không cần trích xuất những tham số phía sau. Ví dụ về một domain: www.google.com, www.facebook.com,...\n",
    "\n",
    "Để hoàn thành được yêu cầu này, bạn có thể sử dụng regex để trích xuất các url, sau đó áp dung một số biện pháp xử lý chuỗi để lấy ra được tên của domain, cuối cùng là dùng Aggregation để gộp nhóm lại. Kết quả sẽ như sau:\n"
   ]
  },
  {
   "cell_type": "code",
   "execution_count": 3,
   "metadata": {},
   "outputs": [
    {
     "name": "stderr",
     "output_type": "stream",
     "text": [
      "                                                                                \r"
     ]
    },
    {
     "name": "stdout",
     "output_type": "stream",
     "text": [
      "root\n",
      " |-- Body: string (nullable = true)\n",
      " |-- CreationDate: string (nullable = true)\n",
      " |-- Id: integer (nullable = true)\n",
      " |-- OwnerUserId: string (nullable = true)\n",
      " |-- ParentId: integer (nullable = true)\n",
      " |-- Score: integer (nullable = true)\n",
      " |-- _id: struct (nullable = true)\n",
      " |    |-- oid: string (nullable = true)\n",
      "\n"
     ]
    }
   ],
   "source": [
    "# +--------------------+-----+                                                    \n",
    "# |              Domain|Count|\n",
    "# +--------------------+-----+\n",
    "# |   www.cs.bham.ac.uk|    4|\n",
    "# |groups.csail.mit.edu|    7|\n",
    "# |     fiddlertool.com|    1|\n",
    "# |   www.dynagraph.org|    1|\n",
    "# | images.mydomain.com|    1|\n",
    "# |  img7.imageshack.us|    3|\n",
    "# +--------------------+-----+\n",
    "\n",
    "# Các domain này nằm trong Answers Collection.Body nên ta sẽ load Collection vào rồi thực hiện thao tác\n",
    "Answers_df = spark.read.format(\"mongo\")\\\n",
    "    .option(\"databse\",\"DEP303_ASM1\")\\\n",
    "    .option(\"collection\",\"Answers\")\\\n",
    "    .load()\n",
    "    \n",
    "Answers_df.printSchema()\n"
   ]
  },
  {
   "cell_type": "code",
   "execution_count": 4,
   "metadata": {},
   "outputs": [
    {
     "name": "stderr",
     "output_type": "stream",
     "text": [
      "                                                                                \r"
     ]
    },
    {
     "name": "stdout",
     "output_type": "stream",
     "text": [
      "+-----------------------------+-----+\n",
      "|Domain                       |count|\n",
      "+-----------------------------+-----+\n",
      "|http://stackoverflow.com     |64807|\n",
      "|https://github.com           |36551|\n",
      "|http://jsfiddle.net          |35726|\n",
      "|http://msdn.microsoft.com    |33389|\n",
      "|http://en.wikipedia.org      |16747|\n",
      "|http://docs.oracle.com       |11373|\n",
      "|http://developer.android.com |11078|\n",
      "|http://php.net               |10772|\n",
      "|http://api.jquery.com        |8324 |\n",
      "|https://developer.mozilla.org|8204 |\n",
      "|https://msdn.microsoft.com   |7320 |\n",
      "|http://i.stack.imgur.com     |7320 |\n",
      "|http://code.google.com       |5803 |\n",
      "|https://jsfiddle.net         |5106 |\n",
      "|https://developer.apple.com  |5077 |\n",
      "|http://docs.python.org       |4804 |\n",
      "|http://dev.mysql.com         |4725 |\n",
      "|http://developer.apple.com   |4410 |\n",
      "|https://developers.google.com|4214 |\n",
      "|https://docs.python.org      |4036 |\n",
      "+-----------------------------+-----+\n",
      "only showing top 20 rows\n",
      "\n"
     ]
    }
   ],
   "source": [
    "# # Chia giá trị trong cột Body làm 3 phần, chỉ lấy giá trị sau href= vào dấu / thứ 3.\n",
    "# trim() remove whitespace from both side\n",
    "pattern = '(.*)((?<=href=\\\\\")(.*?)\\/\\/(.*?)(?=\\/))(.*)'\n",
    "Answers_df\\\n",
    "    .select(regexp_extract(\"Body\",pattern,2).alias(\"Domain\"))\\\n",
    "    .where(\"trim(Domain) != '' \")\\\n",
    "    .groupBy(\"Domain\")\\\n",
    "    .count()\\\n",
    "    .sort(col(\"count\").desc())\\\n",
    "    .show(20,truncate = False)\n"
   ]
  },
  {
   "cell_type": "markdown",
   "metadata": {},
   "source": [
    "## 6.Yêu cầu 3 : Tính tổng điểm của User theo từng ngày\n",
    "Bạn cần biết được xem đến ngày nào đó thì User đạt được bao nhiêu điểm. Ví dụ với dữ liệu như sau:\n",
    "\n",
    "Để hoàn thành yêu cầu này, bạn sẽ cần sử dụng các thao tác Windowing và các thao tác Aggregation, bạn có thể tham khảo bài Bài 9 : Data Aggregations và Join trên Spark. Kết quả sẽ cần được sắp xếp theo trường OwnerUserId và CreationDate.\n"
   ]
  },
  {
   "cell_type": "code",
   "execution_count": null,
   "metadata": {},
   "outputs": [],
   "source": [
    "'''\n",
    "+-----------+------------+-----+\n",
    "|OwnerUserId|CreationDate|Score|\n",
    "+-----------+------------+-----+\n",
    "|         26|  2008-08-01|   26|\n",
    "|         26|  2008-08-01|  144|\n",
    "|         83|  2008-08-01|   21|\n",
    "|    \t  83|  2008-08-02|   53|\n",
    "|         26|  2008-08-02|   29|\n",
    "+-----------+------------+-----+\n",
    "Thì bạn sẽ có được kết quả:\n",
    "\n",
    "+-----------+------------+----------+\n",
    "|OwnerUserId|CreationDate|TotalScore|\n",
    "+-----------+------------+----------+\n",
    "|         26|  2008-08-01|       170|\n",
    "|         26|  2008-08-02|       199|\n",
    "|         83|  2008-08-01|        21|\n",
    "|         83|  2008-08-02|        74|\n",
    "+-----------+------------+----------+\n",
    "\n",
    "'''"
   ]
  },
  {
   "cell_type": "code",
   "execution_count": 10,
   "metadata": {},
   "outputs": [
    {
     "name": "stdout",
     "output_type": "stream",
     "text": [
      "root\n",
      " |-- Id: integer (nullable = true)\n",
      " |-- OwnerUserId: integer (nullable = true)\n",
      " |-- CreationDate: date (nullable = true)\n",
      " |-- ClosedDate: date (nullable = true)\n",
      " |-- Score: integer (nullable = true)\n",
      " |-- Title: string (nullable = true)\n",
      " |-- Body: string (nullable = true)\n",
      "\n"
     ]
    }
   ],
   "source": [
    "transformed_df.printSchema()"
   ]
  },
  {
   "cell_type": "code",
   "execution_count": 16,
   "metadata": {},
   "outputs": [
    {
     "name": "stderr",
     "output_type": "stream",
     "text": [
      "                                                                                \r"
     ]
    },
    {
     "name": "stdout",
     "output_type": "stream",
     "text": [
      "+-----+------------+----------+\n",
      "|   Id|CreationDate|TotalScore|\n",
      "+-----+------------+----------+\n",
      "|  580|  2008-08-02|        21|\n",
      "| 1160|  2008-08-04|        36|\n",
      "| 2750|  2008-08-05|         7|\n",
      "| 3790|  2008-08-06|         3|\n",
      "| 4230|  2008-08-07|        34|\n",
      "| 4610|  2008-08-07|        11|\n",
      "| 5880|  2008-08-08|         6|\n",
      "| 6110|  2008-08-08|         3|\n",
      "| 6890|  2008-08-09|         5|\n",
      "| 7880|  2008-08-11|        15|\n",
      "| 8950|  2008-08-12|         0|\n",
      "|10230|  2008-08-13|        12|\n",
      "|10580|  2008-08-14|        56|\n",
      "|10680|  2008-08-14|        11|\n",
      "|11500|  2008-08-14|        24|\n",
      "|11520|  2008-08-14|         3|\n",
      "|13060|  2008-08-16|        15|\n",
      "|13170|  2008-08-16|         6|\n",
      "|14410|  2008-08-18|        23|\n",
      "|14570|  2008-08-18|         0|\n",
      "+-----+------------+----------+\n",
      "only showing top 20 rows\n",
      "\n"
     ]
    }
   ],
   "source": [
    "from pyspark.sql import Window\n",
    "running_total_window = Window.partitionBy(\"Id\")\\\n",
    "    .orderBy(\"CreationDate\")\\\n",
    "    .rowsBetween(Window.unboundedPreceding, Window.currentRow)\n",
    "\n",
    "transformed_df.withColumn(\"TotalScore\",sum(\"Score\").over(running_total_window)).select(\"Id\",\"CreationDate\",\"TotalScore\").show()"
   ]
  },
  {
   "cell_type": "markdown",
   "metadata": {},
   "source": [
    "## 7. Yêu cầu 4: Tính tổng số điểm mà User đạt được trong một khoảng thời gian\n",
    "Ở yêu cầu này, bạn sẽ cần tính tổng điểm mà User đạt được khi đặt câu hỏi trong một khoảng thời gian. Ví dụ như bạn muốn tính xem từ ngày 01-01-2008 đến 01-01-2009 thì các user đạt được bao nhiêu điểm từ việc đặt câu hỏi. Các khoảng thời gian này sẽ được khai báo trực tiếp trong code, ví dụ như sau:\n",
    "\n",
    "\n",
    "START = '01-01-2008'\n",
    "END = '01-01-2009'\n",
    "\n",
    "Để hoàn thành yêu cầu này, bạn sẽ cần sử dụng filter() để lọc ra các dữ liệu thỏa mãn từ Dataframe, sau đó có thể làm theo yêu cầu 4. Kết quả sẽ cần được sắp xếp theo trường OwnerUserId và CreationDate, ví dụ:"
   ]
  },
  {
   "cell_type": "code",
   "execution_count": null,
   "metadata": {},
   "outputs": [],
   "source": [
    "'''\n",
    "+-----------+----------+\n",
    "|OwnerUserId|TotalScore|\n",
    "+-----------+----------+\n",
    "|       1580|         5|\n",
    "|      18051|         2|\n",
    "|       4101|        11|\n",
    "|      18866|         6|\n",
    "|    2376109|         5|\n",
    "+-----------+----------+\n",
    "'''"
   ]
  },
  {
   "cell_type": "code",
   "execution_count": 27,
   "metadata": {},
   "outputs": [
    {
     "name": "stderr",
     "output_type": "stream",
     "text": [
      "[Stage 17:======================================================> (31 + 1) / 32]\r"
     ]
    },
    {
     "name": "stdout",
     "output_type": "stream",
     "text": [
      "+-----------+----------+\n",
      "|OwnerUserId|TotalScore|\n",
      "+-----------+----------+\n",
      "|       1580|        13|\n",
      "|      18051|         2|\n",
      "|       4101|        11|\n",
      "|      18866|         6|\n",
      "|    2376109|         5|\n",
      "|      15727|         6|\n",
      "|       3175|         4|\n",
      "|      33412|         2|\n",
      "|      22521|         1|\n",
      "|      20382|         2|\n",
      "|       2122|        26|\n",
      "|      42635|         7|\n",
      "|      36131|        47|\n",
      "|      23571|         8|\n",
      "|      53191|        99|\n",
      "|      44437|       140|\n",
      "|      25517|        15|\n",
      "|      50348|         0|\n",
      "|      69048|         1|\n",
      "|        392|       218|\n",
      "+-----------+----------+\n",
      "only showing top 20 rows\n",
      "\n"
     ]
    },
    {
     "name": "stderr",
     "output_type": "stream",
     "text": [
      "                                                                                \r"
     ]
    }
   ],
   "source": [
    "#Yêu cầu 4: Tính tổng số điểm mà User đạt được trong một khoảng thời gian\n",
    "START = '2008-08-02'\n",
    "END = '2009-09-01'\n",
    "transformed_df.filter(col(\"CreationDate\").between(START,END)).groupBy(\"OwnerUserId\").agg(sum(\"Score\").alias(\"TotalScore\")).select(\"OwnerUserId\",\"TotalScore\").show()"
   ]
  },
  {
   "cell_type": "markdown",
   "metadata": {},
   "source": [
    "## 8.Yêu cầu 5: Tìm các câu hỏi có nhiều câu trả lời\n",
    "\n",
    "Một câu hỏi tốt sẽ được tính số lượng câu trả lời của câu hỏi đó, nếu như câu hỏi có nhiều hơn 5 câu trả lời thì sẽ được tính là tốt. Bạn sẽ cần tìm xem có bao nhiêu câu hỏi đang được tính là tốt,  \n",
    "\n",
    "Để hoàn thành yêu cầu này, bạn sẽ cần sử dụng các thao tác Join để gộp dữ liệu từ Answers với Collections, sau đó dụng các thao tác Aggregation để gộp nhóm, tính xem mỗi câu hỏi đã có bao nhiêu câu trả lời. Cuối cùng là dùng hàm filter() để lọc ra các câu hỏi có nhiều hơn 5 câu trả lời. \n",
    "\n",
    "Lưu ý: Do thao tác có thể tốn rất nhiều thời gian, nên bạn hãy sử dụng cơ chế Bucket Join để phân vùng cho các dữ liệu trước. Bạn có thể tham khảo Bài 9 : Data Aggregations và Join để hiểu rõ hơn về cơ chế này.\n",
    "\n",
    "Kết quả sẽ cần được sắp xếp theo ID của các câu hỏi"
   ]
  },
  {
   "cell_type": "code",
   "execution_count": 37,
   "metadata": {},
   "outputs": [
    {
     "name": "stderr",
     "output_type": "stream",
     "text": [
      "                                                                                \r"
     ]
    },
    {
     "name": "stdout",
     "output_type": "stream",
     "text": [
      "+--------+-----+\n",
      "|      Id|count|\n",
      "+--------+-----+\n",
      "|  406760|  408|\n",
      "|   38210|  316|\n",
      "|   23930|  129|\n",
      "|  100420|  100|\n",
      "|   40480|   69|\n",
      "|  490420|   67|\n",
      "|  106340|   61|\n",
      "| 2155930|   59|\n",
      "|  226970|   55|\n",
      "|  202750|   51|\n",
      "| 1218390|   50|\n",
      "|17054000|   49|\n",
      "|   24270|   45|\n",
      "|  274230|   43|\n",
      "|  173400|   43|\n",
      "|  728360|   42|\n",
      "| 1009160|   41|\n",
      "|  182630|   40|\n",
      "| 3412730|   40|\n",
      "|   64790|   40|\n",
      "+--------+-----+\n",
      "only showing top 20 rows\n",
      "\n"
     ]
    }
   ],
   "source": [
    "#Yêu cầu 5: Tìm các câu hỏi có nhiều câu trả lời\n",
    "#Join transformed_df vs Answers_df\n",
    "join_expression = transformed_df.Id == Answers_df.ParentId\n",
    "joined_df = transformed_df.join(Answers_df,join_expression,\"inner\")\\\n",
    "    .select(transformed_df.Id,Answers_df.Id.alias(\"Answer_ID\"))\\\n",
    "    .groupBy(transformed_df.Id)\\\n",
    "    .count()\\\n",
    "    .filter(\"count >5\" )\\\n",
    "    .sort(col(\"count\").desc())\n",
    "joined_df.show()"
   ]
  },
  {
   "cell_type": "markdown",
   "metadata": {},
   "source": [
    "## (Nâng cao)Yêu cầu 6: Tìm các Active User\n",
    "Một User được tính là Active sẽ cần thỏa mãn một trong các yêu cầu sau:\n",
    "\n",
    "Có nhiều hơn 50 câu trả lời hoặc tổng số điểm đạt được khi trả lời lớn hơn 500.\n",
    "\n",
    "Có nhiều hơn 5 câu trả lời ngay trong ngày câu hỏi được tạo.\n",
    "\n",
    "Bạn hãy lọc các User thỏa mãn điều kiện trên"
   ]
  },
  {
   "cell_type": "code",
   "execution_count": 56,
   "metadata": {},
   "outputs": [
    {
     "name": "stderr",
     "output_type": "stream",
     "text": [
      "[Stage 46:=====================================================>  (26 + 1) / 27]\r"
     ]
    },
    {
     "name": "stdout",
     "output_type": "stream",
     "text": [
      "+-----------+----+---------+-----+------------+--------------------+\n",
      "|OwnerUserId|  Id|Answer_Id|Score|CreationDate|         Answer_Date|\n",
      "+-----------+----+---------+-----+------------+--------------------+\n",
      "|        149| 580|      585|   13|  2008-08-02|2008-08-02T23:40:04Z|\n",
      "|         34| 580|      586|   17|  2008-08-02|2008-08-02T23:51:09Z|\n",
      "|        116| 580|      590|    2|  2008-08-02|2008-08-03T00:22:03Z|\n",
      "|        111| 580|      591|    3|  2008-08-02|2008-08-03T00:37:03Z|\n",
      "|         76| 580|      597|    1|  2008-08-02|2008-08-03T01:38:02Z|\n",
      "|        307| 580|     1446|    2|  2008-08-02|2008-08-04T17:38:59Z|\n",
      "|         26| 580|     1464|    5|  2008-08-02|2008-08-04T18:00:50Z|\n",
      "|       1219| 580|     9963|    1|  2008-08-02|2008-08-13T15:41:44Z|\n",
      "|       1073| 580|    14447|    6|  2008-08-02|2008-08-18T10:47:50Z|\n",
      "|       1070| 580|    28410|    0|  2008-08-02|2008-08-26T15:38:22Z|\n",
      "|       1220| 580|    28698|    1|  2008-08-02|2008-08-26T17:39:20Z|\n",
      "|       3241| 580|    31405|    1|  2008-08-02|2008-08-28T00:22:08Z|\n",
      "|      35719| 580|   322859|    0|  2008-08-02|2008-11-27T03:15:45Z|\n",
      "|     346593| 580|  3001482|    1|  2008-08-02|2010-06-08T21:33:36Z|\n",
      "|         91|1160|     1164|    2|  2008-08-04|2008-08-04T11:41:37Z|\n",
      "|        120|1160|     1168|    3|  2008-08-04|2008-08-04T11:51:59Z|\n",
      "|        275|1160|     1169|   13|  2008-08-04|2008-08-04T11:56:42Z|\n",
      "|        266|1160|     1172|    3|  2008-08-04|2008-08-04T12:03:03Z|\n",
      "|        120|1160|     1216|    2|  2008-08-04|2008-08-04T13:22:31Z|\n",
      "|        173|1160|     1235|    3|  2008-08-04|2008-08-04T13:43:54Z|\n",
      "+-----------+----+---------+-----+------------+--------------------+\n",
      "only showing top 20 rows\n",
      "\n"
     ]
    },
    {
     "name": "stderr",
     "output_type": "stream",
     "text": [
      "                                                                                \r"
     ]
    }
   ],
   "source": [
    "#Đầu tiên ta Join 2 DF Questions và Answers, lấy ra những cột cần để thao tác Aggregate\n",
    "join_expression = transformed_df.Id == Answers_df.ParentId\n",
    "joined_df3 = transformed_df.join(Answers_df,join_expression,\"inner\").select(Answers_df.OwnerUserId,transformed_df.Id,Answers_df.Id.alias(\"Answer_Id\"),Answers_df.Score,transformed_df.CreationDate,Answers_df.CreationDate.alias(\"Answer_Date\"))\n",
    "    \n",
    "joined_df3.show()"
   ]
  },
  {
   "cell_type": "code",
   "execution_count": 63,
   "metadata": {},
   "outputs": [
    {
     "name": "stderr",
     "output_type": "stream",
     "text": [
      "                                                                                \r"
     ]
    },
    {
     "name": "stdout",
     "output_type": "stream",
     "text": [
      "+-----------+\n",
      "|OwnerUserId|\n",
      "+-----------+\n",
      "|      47984|\n",
      "|      13442|\n",
      "|     117362|\n",
      "|      89771|\n",
      "|     326900|\n",
      "|     547122|\n",
      "|      65548|\n",
      "|     493122|\n",
      "|     486979|\n",
      "|    2872922|\n",
      "|    3661630|\n",
      "|    4479309|\n",
      "|      66692|\n",
      "|     103206|\n",
      "|     211160|\n",
      "|     313137|\n",
      "|     301152|\n",
      "|     403610|\n",
      "|     449856|\n",
      "|     225239|\n",
      "+-----------+\n",
      "only showing top 20 rows\n",
      "\n"
     ]
    }
   ],
   "source": [
    "# Xử lí điều kiện Có nhiều hơn 50 câu trả lời hoặc tổng số điểm đạt được khi trả lời lớn hơn 500.\n",
    "\n",
    "joined_df4 = joined_df3.groupBy(\"OwnerUserId\").count().filter(\"count > 50\").select(\"OwnerUserId\")\n",
    "\n",
    "joined_df4.show()"
   ]
  },
  {
   "cell_type": "code",
   "execution_count": 81,
   "metadata": {},
   "outputs": [
    {
     "name": "stderr",
     "output_type": "stream",
     "text": [
      "[Stage 90:=======>                                                  (1 + 7) / 8]\r"
     ]
    },
    {
     "name": "stdout",
     "output_type": "stream",
     "text": [
      "+-----------+\n",
      "|OwnerUserId|\n",
      "+-----------+\n",
      "|      89771|\n",
      "|     234938|\n",
      "|     257550|\n",
      "|     449856|\n",
      "|     807231|\n",
      "|     846273|\n",
      "|      87234|\n",
      "|      34211|\n",
      "|     487339|\n",
      "|     134633|\n",
      "|      56829|\n",
      "|     208809|\n",
      "|    1705598|\n",
      "|    1679863|\n",
      "|      95589|\n",
      "|     342852|\n",
      "|     449449|\n",
      "|     576911|\n",
      "|       6380|\n",
      "|       1695|\n",
      "+-----------+\n",
      "only showing top 20 rows\n",
      "\n"
     ]
    },
    {
     "name": "stderr",
     "output_type": "stream",
     "text": [
      "                                                                                \r"
     ]
    }
   ],
   "source": [
    "#Xử lí điều kiện tổng số điểm đạt được khi trả lời lớn hơn 500.\n",
    "\n",
    "joined_df5 = joined_df3.select(\"OwnerUserId\",\"Score\").groupBy(\"OwnerUserId\").sum(\"Score\").filter(\"sum(Score) > 500\").select(\"OwnerUserId\")\n",
    "joined_df5.show()"
   ]
  },
  {
   "cell_type": "code",
   "execution_count": 83,
   "metadata": {},
   "outputs": [
    {
     "name": "stderr",
     "output_type": "stream",
     "text": [
      "[Stage 104:==================================================>      (8 + 1) / 9]\r"
     ]
    },
    {
     "name": "stdout",
     "output_type": "stream",
     "text": [
      "+-----------+\n",
      "|OwnerUserId|\n",
      "+-----------+\n",
      "|       5645|\n",
      "|      30966|\n",
      "|      47984|\n",
      "|      76056|\n",
      "|      13442|\n",
      "|      31039|\n",
      "|     142039|\n",
      "|     115722|\n",
      "|      12529|\n",
      "|      89771|\n",
      "|     102684|\n",
      "|      70170|\n",
      "|     234938|\n",
      "|     192839|\n",
      "|     114583|\n",
      "|     344922|\n",
      "|      80243|\n",
      "|     326900|\n",
      "|     247020|\n",
      "|     312598|\n",
      "+-----------+\n",
      "only showing top 20 rows\n",
      "\n"
     ]
    },
    {
     "name": "stderr",
     "output_type": "stream",
     "text": [
      "                                                                                \r"
     ]
    }
   ],
   "source": [
    "# Xử lí điều kiện Có nhiều hơn 5 câu trả lời ngay trong ngày câu hỏi được tạo.\n",
    "joined_df6 = joined_df3.filter(\"CreationDate == to_date(Answer_Date)\").groupBy(\"OwnerUserId\").count().filter(\"count > 5\").select(\"OwnerUserId\")\n",
    "joined_df6.show()"
   ]
  },
  {
   "cell_type": "code",
   "execution_count": 90,
   "metadata": {},
   "outputs": [
    {
     "name": "stderr",
     "output_type": "stream",
     "text": [
      "[Stage 121:=========================================================(8 + 0) / 8]\r"
     ]
    },
    {
     "name": "stdout",
     "output_type": "stream",
     "text": [
      "+-----------+\n",
      "|OwnerUserId|\n",
      "+-----------+\n",
      "|      47984|\n",
      "|      13442|\n",
      "|     117362|\n",
      "|      89771|\n",
      "|     326900|\n",
      "|     547122|\n",
      "|      65548|\n",
      "|     493122|\n",
      "|     486979|\n",
      "|    2872922|\n",
      "|    3661630|\n",
      "|    4479309|\n",
      "|      66692|\n",
      "|     103206|\n",
      "|     211160|\n",
      "|     313137|\n",
      "|     301152|\n",
      "|     403610|\n",
      "|     449856|\n",
      "|     225239|\n",
      "+-----------+\n",
      "only showing top 20 rows\n",
      "\n"
     ]
    },
    {
     "name": "stderr",
     "output_type": "stream",
     "text": [
      "                                                                                \r"
     ]
    }
   ],
   "source": [
    "# Union 3 DF vừa tìm được và loại bỏ các Duplicates ta được DF đáp án\n",
    "\n",
    "List_ActiveUser_df= joined_df4.union(joined_df5).union(joined_df6).dropDuplicates()\n",
    "List_ActiveUser_df.show()"
   ]
  },
  {
   "cell_type": "code",
   "execution_count": 11,
   "metadata": {},
   "outputs": [],
   "source": [
    "# people.write.format(\"mongo\").mode(\"append\").option(\"database\",\n",
    "# \"people\").option(\"collection\", \"contacts\").save()"
   ]
  }
 ],
 "metadata": {
  "kernelspec": {
   "display_name": "Python 3.9.7 ('virtual_workspace')",
   "language": "python",
   "name": "python3"
  },
  "language_info": {
   "codemirror_mode": {
    "name": "ipython",
    "version": 3
   },
   "file_extension": ".py",
   "mimetype": "text/x-python",
   "name": "python",
   "nbconvert_exporter": "python",
   "pygments_lexer": "ipython3",
   "version": "3.9.7"
  },
  "orig_nbformat": 4,
  "vscode": {
   "interpreter": {
    "hash": "06c0d0ce718001a2a6bf82572817052fac62d251d6d87b3f2a13ad94793236d7"
   }
  }
 },
 "nbformat": 4,
 "nbformat_minor": 2
}
